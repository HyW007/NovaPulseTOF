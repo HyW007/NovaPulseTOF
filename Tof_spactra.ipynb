{
 "cells": [
  {
   "cell_type": "code",
   "id": "initial_id",
   "metadata": {
    "collapsed": true,
    "ExecuteTime": {
     "end_time": "2024-08-08T12:39:02.946615Z",
     "start_time": "2024-08-08T12:39:01.591197Z"
    }
   },
   "source": [
    "import matplotlib as mpl\n",
    "import matplotlib.pyplot as plt\n",
    "import numpy as np\n",
    "\n",
    "from astropy import units as u \n",
    "\n",
    "from snewpy.neutrino import Flavor, MassHierarchy, MixingParameters\n",
    "from snewpy.models.ccsn import Nakazato_2013\n",
    "from snewpy.flavor_transformation import AdiabaticMSW, NonAdiabaticMSWH, \\\n",
    "                                         TwoFlavorDecoherence, ThreeFlavorDecoherence, \\\n",
    "                                         NeutrinoDecay, AdiabaticMSWes, NonAdiabaticMSWes\n",
    "\n",
    "mpl.rc('font', size=18)\n",
    "%matplotlib inline"
   ],
   "outputs": [],
   "execution_count": 1
  },
  {
   "metadata": {
    "ExecuteTime": {
     "end_time": "2024-08-08T12:39:03.458153Z",
     "start_time": "2024-08-08T12:39:03.447321Z"
    }
   },
   "cell_type": "code",
   "source": [
    "model = Nakazato_2013(progenitor_mass=20*u.solMass, revival_time=100*u.ms, metallicity=0.004, eos='shen')\n",
    "model"
   ],
   "id": "15fa142ae0311a9e",
   "outputs": [
    {
     "data": {
      "text/plain": [
       "Nakazato_2013 Model: nakazato-shen-z0.004-t_rev100ms-s20.0.fits\n",
       "Progenitor mass  : 20.0 solMass\n",
       "Revival time     : 100.0 ms\n",
       "Metallicity      : 0.004\n",
       "EOS              : shen"
      ],
      "text/markdown": "**Nakazato_2013 Model**: nakazato-shen-z0.004-t_rev100ms-s20.0.fits\n\n|Parameter|Value|\n|:--------|:----:|\n|Progenitor mass | $20$ $\\mathrm{M_{\\odot}}$|\n|Revival time | $100$ $\\mathrm{ms}$|\n|Metallicity | 0.004 |\n|EOS | shen |"
     },
     "execution_count": 2,
     "metadata": {},
     "output_type": "execute_result"
    }
   ],
   "execution_count": 2
  },
  {
   "metadata": {
    "ExecuteTime": {
     "end_time": "2024-08-08T12:39:04.115903Z",
     "start_time": "2024-08-08T12:39:04.111443Z"
    }
   },
   "cell_type": "code",
   "source": [
    "D=10*u.kpc\n",
    "c = 299792458 * u.m / u.s\n",
    "tof_light=D.to(u.m)/c\n",
    "\n",
    "T=(100* u.ms)\n",
    "    \n",
    "E = 30* u.MeV\n",
    "d = (10*u.kpc).to('cm').value # distance to SN\n",
    "    \n",
    "#M=np.linspace(0.1,1,5)*u.eV\n",
    "M=1* u.eV\n",
    "   \n",
    "V= D.to(u.m).value/(c.value*(1-(M.value/ E.to(u.eV).value)**2)**0.5)-D.to(u.m).value/c.value\n",
    "print(V)\n",
    "for flavor in Flavor:\n",
    "    if flavor==0:\n",
    "        print(flavor)"
   ],
   "id": "b6884f85c7496dd4",
   "outputs": [
    {
     "name": "stdout",
     "output_type": "stream",
     "text": [
      "0.0006103515625\n",
      "0\n"
     ]
    }
   ],
   "execution_count": 3
  },
  {
   "metadata": {
    "ExecuteTime": {
     "end_time": "2024-08-08T12:39:04.815108Z",
     "start_time": "2024-08-08T12:39:04.809073Z"
    }
   },
   "cell_type": "code",
   "source": [
    "def plot_spectra12(model, xform_nmo, xform_imo, t):\n",
    "    \"\"\"Plot initial and oscillated neutrino luminosities.\n",
    "    \n",
    "    Parameters\n",
    "    ----------\n",
    "    model : SupernovaModel\n",
    "        An input model from a CCSN simulation.\n",
    "    flav_xform : FlavorTransformation\n",
    "        A FlavorTransformation subclass; used to create an instance.\n",
    "    t : astropy.Quantity\n",
    "        Time to compute the spectrum.\n",
    "    \"\"\"\n",
    "\n",
    "    energies = np.linspace(1,50,2500) * u.MeV   \n",
    "    D=10* u.kpc\n",
    "    d = (10*u.kpc).to('cm').value # distance to SN\n",
    "    mass=1 *u.eV    \n",
    "    #get the spectra\n",
    "    ospec_nmo = model.get_transformed_spectra(t, energies, xform_nmo)\n",
    "    ospec_imo = model.get_transformed_spectra(t, energies, xform_imo)\n",
    "    ospec_nmo_tof = model.get_delayed_flux(D, t, energies, mass, xform_nmo)\n",
    "    ospec_imo_tof= model.get_delayed_flux(D, t, energies, mass, xform_imo)\n",
    "    \n",
    "\n",
    "    for flavor in Flavor:\n",
    "        for j, E in enumerate(energies):\n",
    "            \n",
    "            ospec_nmo[flavor][j] /= (4.*np.pi*d**2)\n",
    "            ospec_imo[flavor][j] /= (4.*np.pi*d**2)\n",
    "            ospec_nmo_tof[flavor][j] /= (4.*np.pi*d**2)\n",
    "            ospec_imo_tof[flavor][j] /= (4.*np.pi*d**2)\n",
    "    \n",
    "    energy_bins = [(1, 10), (10, 30), (30, 50)]\n",
    "    fig, axes = plt.subplots(2,3, figsize=(24,21), tight_layout=True)\n",
    "    titles = ['nmo_tof','imo_tof']\n",
    "    smax = [0.,0.,0.]\n",
    "    for i, (spec_olum, spec_ospec) in enumerate([(ospec_nmo, ospec_nmo_tof), (ospec_imo, ospec_imo_tof)]):\n",
    "         for j, (energy_min, energy_max) in enumerate(energy_bins):\n",
    "            ax = axes[i,j]\n",
    "            \n",
    "            mask = (energies >= energy_min* u.MeV) & (energies < energy_max*u.MeV)\n",
    "            \n",
    "            for flavor in Flavor:\n",
    "                if i == 0:\n",
    "                    smax[j] = np.maximum(smax[j], 1.1 * np.max(spec_olum[flavor][mask]).value)\n",
    "                # 在子图上绘制光度曲线\n",
    "                ax.plot(energies[mask].value,  # 使用筛选后的能量数据\n",
    "                    spec_olum[flavor][mask].value,  # 光度数据\n",
    "                    label=flavor.to_tex(),  # 图例标签\n",
    "                    lw=3,  # 线宽\n",
    "                    ls='--',\n",
    "                    color='C0' if flavor==0 else 'C1' if flavor==1 else 'C2' if flavor==2 else 'C3')  # 线型\n",
    "                ax.plot(energies[mask].value,  # 使用筛选后的能量数据\n",
    "                    spec_ospec[flavor][mask].value,  # 光度数据，使用无单位的值\n",
    "                    label=f'TOF {flavor.to_tex()}',  # 图例标签\n",
    "                    lw=3,  # 线宽\n",
    "                    ls='-',\n",
    "                    color='C0' if flavor==0 else 'C1' if flavor==1 else 'C2' if flavor==2 else 'C3')  # 线型\n",
    "             # 设置子图的x轴和y轴范围\n",
    "            ax.set(xlim=(energy_min, energy_max), ylim=(0, smax[j]))\n",
    "            \n",
    "            # 如果是第一个能量范围，设置y轴标签和图例\n",
    "            if j == 0:\n",
    "                ax.set(ylabel=r'flux [erg$^{-1}$ cm$^{-2}$ s$^{-1}$]')\n",
    "                ax.legend(loc='upper right', ncol=1, fontsize=18)\n",
    "            \n",
    "            # 如果是第二列，设置子图标题\n",
    "            if j == 1:\n",
    "                ax.set(title=titles[i])\n",
    "            \n",
    "            # 如果不是最后一行，隐藏x轴标签\n",
    "            if i < 1:\n",
    "                ax.set(xticklabels=[])\n",
    "            else:\n",
    "                # 否则，设置x轴标签\n",
    "                ax.set(xlabel='Energy [MeV]')\n",
    "            \n",
    "            # 设置网格线\n",
    "            ax.grid(ls=':')\n",
    "                \n",
    "    return fig\n",
    "#tof1,ospec_nmo_tof"
   ],
   "id": "68d168a6b379501e",
   "outputs": [],
   "execution_count": 4
  },
  {
   "metadata": {
    "jupyter": {
     "is_executing": true
    },
    "ExecuteTime": {
     "start_time": "2024-08-08T12:39:06.563756Z"
    }
   },
   "cell_type": "code",
   "source": [
    "fig= plot_spectra12(model, AdiabaticMSW(), AdiabaticMSW(mh=MassHierarchy.INVERTED), 100*u.ms)\n",
    "#print(tof1)\n",
    "#print(ospec_nmo_tof[Flavor.NU_E])\n",
    "#print(np.max(ospec_nmo_tof[Flavor.NU_E]))\n",
    "#print(np.argmax(ospec_nmo_tof[Flavor.NU_E]))"
   ],
   "id": "5746f55595db1e9a",
   "outputs": [],
   "execution_count": null
  },
  {
   "metadata": {},
   "cell_type": "code",
   "source": "",
   "id": "6f8e25cdcda47b61",
   "outputs": [],
   "execution_count": null
  }
 ],
 "metadata": {
  "kernelspec": {
   "display_name": "Python 3",
   "language": "python",
   "name": "python3"
  },
  "language_info": {
   "codemirror_mode": {
    "name": "ipython",
    "version": 2
   },
   "file_extension": ".py",
   "mimetype": "text/x-python",
   "name": "python",
   "nbconvert_exporter": "python",
   "pygments_lexer": "ipython2",
   "version": "2.7.6"
  }
 },
 "nbformat": 4,
 "nbformat_minor": 5
}
