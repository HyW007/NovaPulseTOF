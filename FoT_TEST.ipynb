{
 "cells": [
  {
   "cell_type": "markdown",
   "metadata": {},
   "source": [
    "# Flavor Transformations\n",
    "\n",
    "This notebook produces the figures in the SNEWPY paper showing the effect of the flavor transformation prescriptions upon the nakazato-shen-z0.004-t_rev100ms-s20.0 model "
   ]
  },
  {
   "cell_type": "code",
   "metadata": {
    "ExecuteTime": {
     "end_time": "2024-07-31T13:01:10.665085Z",
     "start_time": "2024-07-31T13:01:10.661947Z"
    }
   },
   "source": [
    "import matplotlib as mpl\n",
    "import matplotlib.pyplot as plt\n",
    "import numpy as np\n",
    "\n",
    "from astropy import units as u \n",
    "\n",
    "from snewpy.neutrino import Flavor, MassHierarchy, MixingParameters\n",
    "from snewpy.models.ccsn import Nakazato_2013\n",
    "from snewpy.flavor_transformation import AdiabaticMSW, NonAdiabaticMSWH, \\\n",
    "                                         TwoFlavorDecoherence, ThreeFlavorDecoherence, \\\n",
    "                                         NeutrinoDecay, AdiabaticMSWes, NonAdiabaticMSWes\n",
    "\n",
    "mpl.rc('font', size=18)\n",
    "%matplotlib inline"
   ],
   "outputs": [],
   "execution_count": 21
  },
  {
   "cell_type": "code",
   "metadata": {
    "ExecuteTime": {
     "end_time": "2024-07-31T13:01:10.722655Z",
     "start_time": "2024-07-31T13:01:10.712307Z"
    }
   },
   "source": [
    "model = Nakazato_2013(progenitor_mass=20*u.solMass, revival_time=100*u.ms, metallicity=0.004, eos='shen')\n",
    "model"
   ],
   "outputs": [
    {
     "data": {
      "text/plain": [
       "Nakazato_2013 Model: nakazato-shen-z0.004-t_rev100ms-s20.0.fits\n",
       "Progenitor mass  : 20.0 solMass\n",
       "Revival time     : 100.0 ms\n",
       "Metallicity      : 0.004\n",
       "EOS              : shen"
      ],
      "text/markdown": "**Nakazato_2013 Model**: nakazato-shen-z0.004-t_rev100ms-s20.0.fits\n\n|Parameter|Value|\n|:--------|:----:|\n|Progenitor mass | $20$ $\\mathrm{M_{\\odot}}$|\n|Revival time | $100$ $\\mathrm{ms}$|\n|Metallicity | 0.004 |\n|EOS | shen |"
     },
     "execution_count": 22,
     "metadata": {},
     "output_type": "execute_result"
    }
   ],
   "execution_count": 22
  },
  {
   "cell_type": "markdown",
   "metadata": {},
   "source": [
    "## Transformed and untransformed energy integrated flux at Earth\n",
    "\n",
    "Compute and plot the flux at Earth for a SN at 10 kpc with no flavor transformation, and with the chosen flavor transformation."
   ]
  },
  {
   "cell_type": "code",
   "metadata": {
    "ExecuteTime": {
     "end_time": "2024-07-31T13:01:10.754967Z",
     "start_time": "2024-07-31T13:01:10.747727Z"
    }
   },
   "source": [
    "def plot_total_flux(model, xform_nmo, xform_imo):\n",
    "    \"\"\"Plot initial and oscillated neutrino luminosities.\n",
    "    \n",
    "    Parameters\n",
    "    ----------\n",
    "    model : SupernovaModel\n",
    "        An input model from a CCSN simulation.\n",
    "    flav_xform : FlavorTransformation\n",
    "        A FlavorTransformation subclass; used to create an instance.\n",
    "    \"\"\"\n",
    "    \n",
    "    energies = np.linspace(0.1,20.1,210) * u.MeV   \n",
    "    D=10* u.kpc\n",
    "    d = (10*u.kpc).to('cm').value # distance to SN\n",
    "    mass=0.2* u.eV    \n",
    "    times = model.get_time()\n",
    "    burst_epoch = times <= 0.1*u.s\n",
    "    accretion_epoch = (times > 0.1*u.s) & (times <= 0.5*u.s)\n",
    "    cooling_epoch = (times > 0.5*u.s) & (times <= 10*u.s)\n",
    "    \n",
    "    ilum = {}\n",
    "    olum_nmo = {}\n",
    "    olum_imo = {}\n",
    "    olum_nmo_tof={}\n",
    "    olum_imo_tof={}\n",
    "    \n",
    "    for flavor in Flavor:\n",
    "        ilum[flavor] = np.zeros(len(times))\n",
    "        olum_nmo[flavor] = np.zeros(len(times))\n",
    "        olum_imo[flavor] = np.zeros(len(times))\n",
    "        olum_nmo_tof[flavor] = np.zeros(len(times))\n",
    "        olum_imo_tof[flavor] = np.zeros(len(times))\n",
    "\n",
    "    # Compute the transformed and untransformed flux at each time.\n",
    "    for i, t in enumerate(times):\n",
    "        ispec = model.get_initial_spectra(t, energies)\n",
    "        ospec_nmo = model.get_transformed_spectra(t, energies, xform_nmo)\n",
    "        ospec_imo = model.get_transformed_spectra(t, energies, xform_imo)\n",
    "        ospec_nmo_tof = model.get_delayed_flux(D, t, energies, mass, xform_nmo)\n",
    "        #ospec_imo_tof = model.get_delayed_flux(D, t, energies, mass, xform_imo)\n",
    "        \n",
    "\n",
    "        for flavor in Flavor:\n",
    "            for j, E in enumerate(energies):\n",
    "                ispec[flavor][j] /= (4.*np.pi*d**2)\n",
    "                ospec_nmo[flavor][j] /= (4.*np.pi*d**2)\n",
    "                ospec_imo[flavor][j] /= (4.*np.pi*d**2)\n",
    "                ospec_nmo_tof[flavor][j]/= (4.*np.pi*d**2)\n",
    "                #ospec_imo_tof[flavor][j] /= (4.*np.pi*d**2)\n",
    "                \n",
    "        for flavor in Flavor:\n",
    "            ilum[flavor][i] = np.trapz(ispec[flavor].to('1/(erg*s)'), energies.to('erg')).value \n",
    "            olum_nmo[flavor][i] = np.trapz(ospec_nmo[flavor].to('1/(erg*s)'), energies.to('erg')).value\n",
    "            olum_imo[flavor][i] = np.trapz(ospec_imo[flavor].to('1/(erg*s)'), energies.to('erg')).value\n",
    "            olum_nmo_tof[flavor][i] = np.trapz(ospec_nmo_tof[flavor].to('1/(erg*s)'), energies.to('erg')).value\n",
    "            #olum_imo_tof[flavor][i] = np.trapz(ospec_imo_tof[flavor].to('1/(erg*s)'), energies.to('erg')).value\n",
    "            \n",
    "    # make the figures \n",
    "    fig, axes = plt.subplots(3,3, figsize=(20,12), tight_layout=True)\n",
    "    \n",
    "    smax = [0.,0.,0.]\n",
    "    titles = ['Untransformed', 'Transformed (NMO)', 'Transformed (nmo_TOF)','Transformed (IMO)','Transformed (imo_TOF)']\n",
    "    titles = ['Untransformed','Transformed (NMO)','Transformed (nmo_TOF)']\n",
    "    for i, spec in enumerate([ilum, olum_nmo, olum_nmo_tof]):\n",
    "        for j, phase in enumerate([burst_epoch, accretion_epoch, cooling_epoch]):\n",
    "            ax = axes[i,j]\n",
    "            timeunits = 'ms' if j==0 else 's'\n",
    "                \n",
    "            for flavor in Flavor:\n",
    "                if i == 0:\n",
    "                    smax[j] = np.maximum(smax[j], 1.1*np.max(spec[flavor][phase]))\n",
    "                    \n",
    "                ax.plot(times[phase].to(timeunits),\n",
    "                        spec[flavor][phase], label=flavor.to_tex(), lw=3,\n",
    "                        color='C0' if flavor.is_electron else 'C1',\n",
    "                        ls='-' if flavor.is_neutrino else ':')\n",
    "            \n",
    "            ax.set(xlim=(times[phase][0].to(timeunits).value, times[phase][-1].to(timeunits).value),\n",
    "                   ylim=(0, smax[j]))\n",
    "            \n",
    "            if j==0:\n",
    "               ax.set(ylabel=r'flux [$10^{16}$ erg$^{-1}$ cm$^{-2}$ s$^{-1}$]')\n",
    "               ax.legend(loc='upper right', ncol=1, fontsize=18)\n",
    "            if j==1:\n",
    "                ax.set(title=titles[i])\n",
    "            if i < 2:\n",
    "                ax.set(xticklabels=[])\n",
    "            else:\n",
    "                ax.set(xlabel='time [{}]'.format(timeunits))\n",
    "            \n",
    "            ax.grid(ls=':')\n",
    "\n",
    "      \n",
    "    return fig"
   ],
   "outputs": [],
   "execution_count": 23
  },
  {
   "cell_type": "markdown",
   "metadata": {},
   "source": [
    "## Untransformed and Transformed Spectra at Earth\n",
    "\n",
    "Compute and plot the spectra at Earth for a SN at 10 kpc with no flavor transformation, and with the chosen flavor transformation."
   ]
  },
  {
   "metadata": {
    "ExecuteTime": {
     "end_time": "2024-07-31T13:01:10.764354Z",
     "start_time": "2024-07-31T13:01:10.755971Z"
    }
   },
   "cell_type": "code",
   "source": [
    "def plot_spectra12(model, xform_nmo, xform_imo, t):\n",
    "    \"\"\"Plot initial and oscillated neutrino luminosities.\n",
    "    \n",
    "    Parameters\n",
    "    ----------\n",
    "    model : SupernovaModel\n",
    "        An input model from a CCSN simulation.\n",
    "    flav_xform : FlavorTransformation\n",
    "        A FlavorTransformation subclass; used to create an instance.\n",
    "    t : astropy.Quantity\n",
    "        Time to compute the spectrum.\n",
    "    \"\"\"\n",
    "\n",
    "    energies = np.linspace(0.1,15.1,220) * u.MeV   \n",
    "    D=50* u.kpc\n",
    "    d = (50*u.kpc).to('cm').value # distance to SN\n",
    "    mass=0.5 *u.eV    \n",
    "    #get the spectra\n",
    "    ospec_nmo = model.get_transformed_spectra(t, energies, xform_nmo)\n",
    "    ospec_imo = model.get_transformed_spectra(t, energies, xform_imo)\n",
    "    ospec_nmo_tof = model.get_delayed_flux(D, t, energies, mass, xform_nmo)\n",
    "    ospec_imo_tof = model.get_delayed_flux(D, t, energies, mass, xform_imo)\n",
    "    \n",
    "\n",
    "    for flavor in Flavor:\n",
    "        for j, E in enumerate(energies):\n",
    "            \n",
    "            ospec_nmo[flavor][j] /= (4.*np.pi*d**2)\n",
    "            ospec_imo[flavor][j] /= (4.*np.pi*d**2)\n",
    "            ospec_nmo_tof[flavor][j] /= (4.*np.pi*d**2)\n",
    "            ospec_imo_tof[flavor][j] /= (4.*np.pi*d**2)\n",
    "    \n",
    "    fig, axes = plt.subplots(2,2, figsize=(18,15), sharex=True, sharey=True, tight_layout=True) \n",
    "    colors = ['C0', 'C1', 'C2', 'C3', 'C4', 'C5', 'C6']\n",
    "    linestyles = ['-', '--', '-', ':', '-', '--', '-'] \n",
    "    for i, spec in enumerate([ ospec_nmo,ospec_nmo_tof]):\n",
    "        axes[0][0].plot(energies, spec[Flavor.NU_E], \n",
    "                    label=f' {\"transformed\" if i == 0 else  \" TOF\"} {Flavor.NU_E.to_tex()}',\n",
    "                    #label='Untransformed '+Flavor.NU_E.to_tex() if i==0 else 'Transformed '+Flavor.NU_E.to_tex(),\n",
    "                     color=colors[2*i], ls=linestyles[2*i] , lw=2,  alpha=0.7)\n",
    "        axes[0][0].plot(energies, spec[Flavor.NU_X],\n",
    "                    label=f' {\"transformed\" if i == 0 else \" TOF\"} {Flavor.NU_X.to_tex()}',\n",
    "                    #label='Untransformed '+Flavor.NU_X.to_tex() if i==0 or 2 else 'Transformed '+Flavor.NU_X.to_tex(),\n",
    "                     color=colors[2*i+1], ls=linestyles[2*i+1] , lw=2,  alpha=0.7)\n",
    "\n",
    "        axes[0][0].set(title='Neutrinos in the NMO: $t = ${:.1f}'.format(t))\n",
    "        axes[0][0].grid()\n",
    "        axes[0][0].legend(loc='upper right', ncol=2, fontsize=16)\n",
    "        #axes[0][0].set_xscale('log')  # Set x-axis to logarithmic scale\n",
    "    \n",
    "        axes[0][1].plot(energies, spec[Flavor.NU_E_BAR],\n",
    "                    label=f' {\"transformed\" if i == 0 else \"Transformed\"if i==1 else \" TOF\"} {Flavor.NU_E_BAR.to_tex()}',\n",
    "                    #label='Untransformed '+Flavor.NU_E_BAR.to_tex() if i==0 else 'Transformed '+Flavor.NU_E_BAR.to_tex(),\n",
    "                     color=colors[2*i], ls=linestyles[2*i] , lw=2,  alpha=0.7)\n",
    "        axes[0][1].plot(energies, spec[Flavor.NU_X_BAR], \n",
    "                    label=f' {\"transformed\" if i == 0 else \" TOF\"} {Flavor.NU_X_BAR.to_tex()}',\n",
    "                    #label='Untransformed '+Flavor.NU_X_BAR.to_tex() if i==0 else 'Transformed '+Flavor.NU_X_BAR.to_tex(),\n",
    "                     color=colors[2*i+1], ls=linestyles[2*i+1] , lw=2,  alpha=0.7)\n",
    "\n",
    "        axes[0][1].set(title='Antineutrinos in the NMO: $t = ${:.1f}'.format(t)) \n",
    "        axes[0][1].grid()\n",
    "        axes[0][1].legend(loc='upper right', ncol=2, fontsize=16)\n",
    "        #axes[0][1].set_xscale('log')  # Set x-axis to logarithmic scale\n",
    "    \n",
    "    for i, spec in enumerate([ ospec_imo, ospec_imo_tof]):\n",
    "        axes[1][0].plot(energies, spec[Flavor.NU_E], \n",
    "                    label=f' {\"transformed\" if i == 0 else \" TOF\"} {Flavor.NU_E.to_tex()}',\n",
    "                    #label='Untransformed '+Flavor.NU_E.to_tex() if i==0 else 'Transformed '+Flavor.NU_E.to_tex(),\n",
    "                     color=colors[2*i], ls=linestyles[2*i] , lw=2,  alpha=0.7)\n",
    "        axes[1][0].plot(energies, spec[Flavor.NU_X], \n",
    "                    label=f' {\"transformed\" if i == 0 else \" TOF\"} {Flavor.NU_X.to_tex()}',\n",
    "                    #label='Untransformed '+Flavor.NU_X.to_tex() if i==0 else 'Transformed '+Flavor.NU_X.to_tex(),\n",
    "                     color=colors[2*i], ls=linestyles[2*i+1] , lw=2,  alpha=0.7)\n",
    "\n",
    "        axes[1][0].set(xlabel=r'$E$ [{}]'.format(energies.unit), title='Neutrinos in the IMO: $t = ${:.1f}'.format(t))\n",
    "        axes[1][0].grid()\n",
    "        axes[1][0].legend(loc='upper right', ncol=2, fontsize=16)\n",
    "        #axes[1][0].set_xscale('log')  # Set x-axis to logarithmic scale\n",
    "    \n",
    "        axes[1][1].plot(energies, spec[Flavor.NU_E_BAR], \n",
    "                    label=f' {\"transformed\" if i == 0 else \" TOF\"} {Flavor.NU_E_BAR.to_tex()}',\n",
    "                    #label='Untransformed '+Flavor.NU_E_BAR.to_tex() if i==0 else 'Transformed '+Flavor.NU_E_BAR.to_tex(),\n",
    "                     color=colors[2*i+1], ls=linestyles[2*i] , lw=2,  alpha=0.7)\n",
    "        axes[1][1].plot(energies, spec[Flavor.NU_X_BAR], \n",
    "                    label=f' {\"transformed\" if i == 0 else \" TOF\"} {Flavor.NU_X_BAR.to_tex()}',\n",
    "                    #label='Untransformed '+Flavor.NU_X_BAR.to_tex() if i==0 else 'Transformed '+Flavor.NU_X_BAR.to_tex(),\n",
    "                     color=colors[2*i+1], ls=linestyles[2*i+1] , lw=2,  alpha=0.7)\n",
    "\n",
    "        axes[1][1].set(xlabel=r'$E$ [{}]'.format(energies.unit), title='Antineutrinos in the IMO: $t = ${:.1f}'.format(t))\n",
    "        axes[1][1].grid()\n",
    "        axes[1][1].legend(loc='upper right', ncol=2, fontsize=18)\n",
    "        #axes[1][1].set_xscale('log')  # Set x-axis to logarithmic scale\n",
    "\n",
    "    ax = axes[0][0]\n",
    "    ax.set(ylabel=r'flux [$10^{16}$ erg$^{-1}$ cm$^{-2}$ s$^{-1}$]')\n",
    "    ax = axes[1][0]\n",
    "    ax.set(ylabel=r'flux [$10^{16}$ erg$^{-1}$ cm$^{-2}$ s$^{-1}$]')\n",
    "    \n",
    "    return fig"
   ],
   "outputs": [],
   "execution_count": 24
  },
  {
   "metadata": {},
   "cell_type": "markdown",
   "source": [
    "## The following is the test part \n",
    "   For def get_delayed_flux(self, distance, arrival_time, energies, masses, flavor_xform)"
   ]
  },
  {
   "metadata": {
    "ExecuteTime": {
     "end_time": "2024-07-31T13:01:11.151332Z",
     "start_time": "2024-07-31T13:01:10.765359Z"
    }
   },
   "cell_type": "code",
   "source": [
    "    D=10*u.kpc\n",
    "    c = 299792458 * u.m / u.s\n",
    "    tof_light=D.to(u.m)/c\n",
    "    #print(t)\n",
    "    #print(D)\n",
    "    T=10* u.ms\n",
    "    #print(T)\n",
    "    E = np.linspace(0.1,10.1,100) * u.MeV  \n",
    "    d = (10*u.kpc).to('cm').value # distance to SN\n",
    "    \n",
    "    #M=np.linspace(0.1,1,5)*u.eV\n",
    "    M=1* u.eV\n",
    "\n",
    "    if M.isscalar:\n",
    "        M = [M]  \n",
    "    print(M)\n",
    "    reslut={}\n",
    "    delayed_spectrum = {}\n",
    "    emission_time= {}\n",
    "    for i, mass in enumerate(M):\n",
    "        emission_time[i] = {}\n",
    "        for j, energy in enumerate(E):\n",
    "            # TOF delay formula from arXiv:1006.1889\n",
    "            tof = 0.57 * ((D.value / 10)**2) * ((mass.value ** 2)) * ((30 / energy.value)** 2) * u.ms\n",
    "          \n",
    "            #Calculate the emission time\n",
    "            emission_time[i][j] = T - tof\n",
    "            \n",
    "    print(emission_time[0][50])\n",
    "    print(\"******************************************\")\n",
    "    print(emission_time[0][1])\n",
    "    \n",
    "    #Calculate the transformed spectra at the emission time    \n",
    "    for i, mass in enumerate(M):\n",
    "        delayed_spectrum[i] = {}\n",
    "        for j, energy in enumerate(E):\n",
    "            reslut = model.get_transformed_spectra(emission_time[i][j], E, AdiabaticMSW())\n",
    "            #print(reslut)\n",
    "            for flavor in Flavor:\n",
    "                delayed_spectrum[i][flavor] = reslut[flavor]\n",
    "        \n",
    "    print(delayed_spectrum[0][Flavor.NU_E_BAR][50])  \n",
    "    print(\"******************************************\")\n",
    "    print(delayed_spectrum[0][Flavor.NU_E_BAR][50])\n",
    "    m=0.2* u.eV\n",
    "    m1=2* u.eV\n",
    "    E = np.linspace(0.1,10.1,100) * u.MeV  \n",
    "    ospec_nmo = model.get_transformed_spectra(T, E, AdiabaticMSW())\n",
    "    ospec_nmo_tof = model.get_delayed_flux(D,T,E, m, AdiabaticMSW())\n",
    "    ospec_nmo_tof1 = model.get_delayed_flux(D,T,E, m1, AdiabaticMSW())\n",
    "    print(\"******************************************\")\n",
    "    print(ospec_nmo[Flavor.NU_E][1] /(4.*np.pi*d**2))\n",
    "    print(ospec_nmo_tof[Flavor.NU_E][1]/ (4.*np.pi*d**2))\n",
    "    print(ospec_nmo_tof1[Flavor.NU_E][1]/ (4.*np.pi*d**2))\n",
    "    \n",
    "    \n",
    "   # 8.26106759e+60, 1.24692700e+61, 1.64205782e+61, 2.00564058e+61,\n",
    "   # 8.26106759e+60, 1.24692700e+61, 1.64205782e+61, 2.00564058e+61,"
   ],
   "outputs": [
    {
     "name": "stdout",
     "output_type": "stream",
     "text": [
      "[<Quantity 1. eV>]\n",
      "-9.338274935258163 ms\n",
      "******************************************\n",
      "-12686.429383096382 ms\n",
      "3.2909248087283614e+57 1 / (erg s)\n",
      "******************************************\n",
      "3.2909248087283614e+57 1 / (erg s)\n",
      "******************************************\n",
      "11259805923.740913 1 / (erg s)\n",
      "10685085596.878185 1 / (erg s)\n",
      "4450177256.468847 1 / (erg s)\n"
     ]
    }
   ],
   "execution_count": 25
  },
  {
   "cell_type": "code",
   "metadata": {
    "jupyter": {
     "is_executing": true
    },
    "ExecuteTime": {
     "start_time": "2024-07-31T13:01:11.152338Z"
    }
   },
   "source": [
    "fig = plot_total_flux(model, AdiabaticMSW(), AdiabaticMSW(mh=MassHierarchy.INVERTED) )\n",
    "fig.savefig('flux_mswtest.pdf')"
   ],
   "outputs": [],
   "execution_count": null
  },
  {
   "metadata": {
    "jupyter": {
     "is_executing": true
    }
   },
   "cell_type": "code",
   "source": [
    "fig = plot_spectra12(model, AdiabaticMSW(), AdiabaticMSW(mh=MassHierarchy.INVERTED), 100*u.ms)\n",
    "fig.savefig('spectra_adiabaticmsw.pdf')"
   ],
   "outputs": [],
   "execution_count": null
  },
  {
   "cell_type": "code",
   "metadata": {
    "jupyter": {
     "is_executing": true
    }
   },
   "source": [
    "mp_nmo = MixingParameters()\n",
    "angles_nmo = mp_nmo.get_mixing_angles() + (10*u.deg,)\n",
    "xf_nmo = AdiabaticMSWes(angles_nmo)\n",
    "\n",
    "mp_imo = MixingParameters(mh=MassHierarchy.INVERTED)\n",
    "angles_imo = mp_imo.get_mixing_angles() + (10*u.deg,)\n",
    "xf_imo = AdiabaticMSWes(angles_imo)\n",
    "\n",
    "fig = plot_total_flux(model, xf_nmo, xf_imo)\n",
    "fig.savefig('flux_mswstest.pdf')"
   ],
   "outputs": [],
   "execution_count": null
  },
  {
   "metadata": {
    "jupyter": {
     "is_executing": true
    }
   },
   "cell_type": "code",
   "source": [
    "fig = plot_spectra12(model, xf_nmo, xf_imo, 100*u.ms)\n",
    "fig.savefig('spectra_adiabaticmswes.pdf')"
   ],
   "outputs": [],
   "execution_count": null
  }
 ],
 "metadata": {
  "kernelspec": {
   "display_name": "Python 3.9.5 ('snews')",
   "language": "python",
   "name": "python3"
  },
  "language_info": {
   "codemirror_mode": {
    "name": "ipython",
    "version": 3
   },
   "file_extension": ".py",
   "mimetype": "text/x-python",
   "name": "python",
   "nbconvert_exporter": "python",
   "pygments_lexer": "ipython3",
   "version": "3.9.5"
  },
  "vscode": {
   "interpreter": {
    "hash": "e2528887d751495e023d57d695389d9a04f4c4d2e5866aaf6dc03a1ed45c573e"
   }
  }
 },
 "nbformat": 4,
 "nbformat_minor": 2
}
